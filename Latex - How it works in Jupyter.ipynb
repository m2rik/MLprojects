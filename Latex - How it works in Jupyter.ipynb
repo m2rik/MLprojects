{
 "cells": [
  {
   "cell_type": "markdown",
   "metadata": {
    "slideshow": {
     "slide_type": "fragment"
    }
   },
   "source": [
    "# Get your Jupyter Notebooks as Latex output"
   ]
  },
  {
   "cell_type": "markdown",
   "metadata": {
    "slideshow": {
     "slide_type": "fragment"
    }
   },
   "source": [
    "## Install Miktex - Download Link: https://miktex.org/download"
   ]
  },
  {
   "cell_type": "markdown",
   "metadata": {
    "slideshow": {
     "slide_type": "fragment"
    }
   },
   "source": [
    "check if its on path from cmd using:\n",
    "`tex version`"
   ]
  },
  {
   "cell_type": "markdown",
   "metadata": {},
   "source": [
    "## Use the code below for a pdf-output with ***cells***\n",
    "`jupyter nbconvert --to pdf latex.ipynb` "
   ]
  },
  {
   "cell_type": "markdown",
   "metadata": {},
   "source": [
    "## Use the code below for a pdf-output with ***no cells***\n",
    "`jupyter nbconvert --to pdf latex.ipynb --no-input` "
   ]
  },
  {
   "cell_type": "markdown",
   "metadata": {},
   "source": [
    "## Using a custom template\n",
    "\n",
    "##### Steps\n",
    "1. Create .tpl file \n",
    "2. import in cmd using `--template=yourtemplate.tpl`\n",
    "\n",
    "`jupyter nbconvert --to python 'example.ipynb' --stdout --template=simplepython.tpl`\n"
   ]
  },
  {
   "cell_type": "markdown",
   "metadata": {},
   "source": [
    "## Export your template from your ipynb file using:\n",
    "`jupyter nbconvert --to pdf --TemplateExporter.exclude_input=True my_notebook.ipynb`\n",
    "\n",
    "`jupyter nbconvert  --to markdown my_file.ipynb --template=\"mytemplate.tpl\"`"
   ]
  },
  {
   "cell_type": "markdown",
   "metadata": {},
   "source": [
    "## Edit Titles from Miktex Latex editor\n",
    "\n",
    "![lde](lde.png)"
   ]
  },
  {
   "cell_type": "markdown",
   "metadata": {},
   "source": [
    "##### Steps\n",
    "1. Open your .tex file in the Miktex viewer\n",
    "2. Go to `/maketitle` and delete it\n",
    "3. Insert the Statement:\n",
    "    \n",
    "\n",
    "`\\begin{title}\n",
    "   \\begin{center}\n",
    "      \\Large\\textbf{Your Text}\\\\\n",
    "      \\large\\textit{Your Text 2}\n",
    "   \\end{center}\n",
    "\\end{title}`\n"
   ]
  },
  {
   "cell_type": "markdown",
   "metadata": {},
   "source": [
    "## Insert Images in Jupyter \n",
    "\n",
    "Format: `![ex 2.13](path/ex2.png)`"
   ]
  },
  {
   "cell_type": "markdown",
   "metadata": {},
   "source": [
    "## To create an internal clickable link in the same notebook:\n",
    "\n",
    "##### Steps\n",
    "1. : Create link `[To some Internal Section](#section_id)`\n",
    "2. : Create destination `<a id='section_id'></a>`"
   ]
  }
 ],
 "metadata": {
  "kernelspec": {
   "display_name": "Python 3",
   "language": "python",
   "name": "python3"
  },
  "language_info": {
   "codemirror_mode": {
    "name": "ipython",
    "version": 3
   },
   "file_extension": ".py",
   "mimetype": "text/x-python",
   "name": "python",
   "nbconvert_exporter": "python",
   "pygments_lexer": "ipython3",
   "version": "3.7.4"
  }
 },
 "nbformat": 4,
 "nbformat_minor": 2
}
