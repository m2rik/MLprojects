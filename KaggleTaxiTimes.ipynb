{
  "nbformat": 4,
  "nbformat_minor": 0,
  "metadata": {
    "colab": {
      "name": "KaggleTaxiTimes.ipynb",
      "version": "0.3.2",
      "provenance": [],
      "collapsed_sections": [],
      "include_colab_link": true
    },
    "kernelspec": {
      "name": "python3",
      "display_name": "Python 3"
    },
    "accelerator": "GPU"
  },
  "cells": [
    {
      "cell_type": "markdown",
      "metadata": {
        "id": "view-in-github",
        "colab_type": "text"
      },
      "source": [
        "<a href=\"https://colab.research.google.com/github/m2rik/MLprojects/blob/master/KaggleTaxiTimes.ipynb\" target=\"_parent\"><img src=\"https://colab.research.google.com/assets/colab-badge.svg\" alt=\"Open In Colab\"/></a>"
      ]
    },
    {
      "cell_type": "code",
      "metadata": {
        "id": "PXX3JEB3aL37",
        "colab_type": "code",
        "outputId": "afe6ccbd-732a-4b98-a4cd-5ec25e73061f",
        "colab": {
          "base_uri": "https://localhost:8080/",
          "height": 220
        }
      },
      "source": [
        "!apt-get install -y -qq software-properties-common python-software-properties module-init-tools\n",
        "!add-apt-repository -y ppa:alessandro-strada/ppa 2>&1 > /dev/null\n",
        "!apt-get update -qq 2>&1 > /dev/null\n",
        "!apt-get -y install -qq google-drive-ocamlfuse fuse\n",
        "from google.colab import auth\n",
        "auth.authenticate_user()\n",
        "from oauth2client.client import GoogleCredentials\n",
        "creds = GoogleCredentials.get_application_default()\n",
        "import getpass\n",
        "!google-drive-ocamlfuse -headless -id={creds.client_id} -secret={creds.client_secret} < /dev/null 2>&1 | grep URL\n",
        "vcode = getpass.getpass()\n",
        "!echo {vcode} | google-drive-ocamlfuse -headless -id={creds.client_id} -secret={creds.client_secret}\n"
      ],
      "execution_count": 1,
      "outputs": [
        {
          "output_type": "stream",
          "text": [
            "E: Package 'python-software-properties' has no installation candidate\n",
            "Selecting previously unselected package google-drive-ocamlfuse.\n",
            "(Reading database ... 131289 files and directories currently installed.)\n",
            "Preparing to unpack .../google-drive-ocamlfuse_0.7.6-0ubuntu1~ubuntu18.04.1_amd64.deb ...\n",
            "Unpacking google-drive-ocamlfuse (0.7.6-0ubuntu1~ubuntu18.04.1) ...\n",
            "Setting up google-drive-ocamlfuse (0.7.6-0ubuntu1~ubuntu18.04.1) ...\n",
            "Processing triggers for man-db (2.8.3-2ubuntu0.1) ...\n",
            "Please, open the following URL in a web browser: https://accounts.google.com/o/oauth2/auth?client_id=32555940559.apps.googleusercontent.com&redirect_uri=urn%3Aietf%3Awg%3Aoauth%3A2.0%3Aoob&scope=https%3A%2F%2Fwww.googleapis.com%2Fauth%2Fdrive&response_type=code&access_type=offline&approval_prompt=force\n",
            "··········\n",
            "Please, open the following URL in a web browser: https://accounts.google.com/o/oauth2/auth?client_id=32555940559.apps.googleusercontent.com&redirect_uri=urn%3Aietf%3Awg%3Aoauth%3A2.0%3Aoob&scope=https%3A%2F%2Fwww.googleapis.com%2Fauth%2Fdrive&response_type=code&access_type=offline&approval_prompt=force\n",
            "Please enter the verification code: Access token retrieved correctly.\n"
          ],
          "name": "stdout"
        }
      ]
    },
    {
      "cell_type": "code",
      "metadata": {
        "id": "6_le7JSLbEQV",
        "colab_type": "code",
        "colab": {}
      },
      "source": [
        "!mkdir -p drive\n",
        "!google-drive-ocamlfuse drive\n"
      ],
      "execution_count": 0,
      "outputs": []
    },
    {
      "cell_type": "code",
      "metadata": {
        "id": "4Y2El0TXeI2k",
        "colab_type": "code",
        "outputId": "0541cc7f-1600-41a3-e939-bdfedfb40249",
        "colab": {
          "base_uri": "https://localhost:8080/",
          "height": 33
        }
      },
      "source": [
        "import tensorflow as tf\n",
        "tf.test.gpu_device_name()"
      ],
      "execution_count": 3,
      "outputs": [
        {
          "output_type": "execute_result",
          "data": {
            "text/plain": [
              "'/device:GPU:0'"
            ]
          },
          "metadata": {
            "tags": []
          },
          "execution_count": 3
        }
      ]
    },
    {
      "cell_type": "code",
      "metadata": {
        "id": "n3Cd8OcBef9Z",
        "colab_type": "code",
        "outputId": "a61fd52f-c7af-4505-f0f7-af377b6fe687",
        "colab": {
          "base_uri": "https://localhost:8080/",
          "height": 33
        }
      },
      "source": [
        "!pip install \n"
      ],
      "execution_count": 4,
      "outputs": [
        {
          "output_type": "stream",
          "text": [
            "adc.json  \u001b[0m\u001b[01;34mdrive\u001b[0m/  \u001b[01;34msample_data\u001b[0m/\n"
          ],
          "name": "stdout"
        }
      ]
    },
    {
      "cell_type": "code",
      "metadata": {
        "id": "Qb7dRRu8enLr",
        "colab_type": "code",
        "colab": {}
      },
      "source": [
        "#data dependencies\n",
        "import numpy as np \n",
        "import pandas as pd\n",
        "import seaborn as sns\n",
        "import matplotlib.pyplot as plt\n",
        "from sklearn.model_selection import ShuffleSplit\n",
        "from sklearn.model_selection import cross_val_score\n",
        "from sklearn.model_selection import learning_curve, GridSearchCV\n",
        "import xgboost\n",
        "%matplotlib inline\n",
        "\n",
        "#from subprocess import check_output\n",
        "#print(check_output([\"ls\", \"input/\"]).decode(\"utf8\"))\n"
      ],
      "execution_count": 0,
      "outputs": []
    },
    {
      "cell_type": "code",
      "metadata": {
        "id": "NJ_9z8vsZ3ii",
        "colab_type": "code",
        "colab": {
          "base_uri": "https://localhost:8080/",
          "height": 436
        },
        "outputId": "49f8869f-3bde-4008-d366-61f2a2bd5eb4"
      },
      "source": [
        "df = pd.read_csv('input/train.csv')\n",
        "df.passenger_count = df.passenger_count.astype(np.uint8)\n",
        "df.vendor_id = df.vendor_id.astype(np.uint8)\n",
        "df.trip_duration = df.trip_duration.astype(np.uint32)\n",
        "for c in [c for c in df.columns if c.endswith('tude')]:\n",
        "    df.loc[:,c] = df[c].astype(np.float32)\n",
        "print(df.memory_usage().sum()/2**20)\n",
        "df.pickup_datetime=pd.to_datetime(df.pickup_datetime)\n",
        "df.dropoff_datetime=pd.to_datetime(df.dropoff_datetime)\n",
        "df['pu_hour'] = df.pickup_datetime.dt.hour\n",
        "df['yday'] = df.pickup_datetime.dt.dayofyear\n",
        "df['wday'] = df.pickup_datetime.dt.dayofweek\n",
        "df['month'] = df.pickup_datetime.dt.month"
      ],
      "execution_count": 8,
      "outputs": [
        {
          "output_type": "error",
          "ename": "FileNotFoundError",
          "evalue": "ignored",
          "traceback": [
            "\u001b[0;31m---------------------------------------------------------------------------\u001b[0m",
            "\u001b[0;31mFileNotFoundError\u001b[0m                         Traceback (most recent call last)",
            "\u001b[0;32m<ipython-input-8-27c0674ee124>\u001b[0m in \u001b[0;36m<module>\u001b[0;34m()\u001b[0m\n\u001b[0;32m----> 1\u001b[0;31m \u001b[0mdf\u001b[0m \u001b[0;34m=\u001b[0m \u001b[0mpd\u001b[0m\u001b[0;34m.\u001b[0m\u001b[0mread_csv\u001b[0m\u001b[0;34m(\u001b[0m\u001b[0;34m'input/train.csv'\u001b[0m\u001b[0;34m)\u001b[0m\u001b[0;34m\u001b[0m\u001b[0;34m\u001b[0m\u001b[0m\n\u001b[0m\u001b[1;32m      2\u001b[0m \u001b[0mdf\u001b[0m\u001b[0;34m.\u001b[0m\u001b[0mpassenger_count\u001b[0m \u001b[0;34m=\u001b[0m \u001b[0mdf\u001b[0m\u001b[0;34m.\u001b[0m\u001b[0mpassenger_count\u001b[0m\u001b[0;34m.\u001b[0m\u001b[0mastype\u001b[0m\u001b[0;34m(\u001b[0m\u001b[0mnp\u001b[0m\u001b[0;34m.\u001b[0m\u001b[0muint8\u001b[0m\u001b[0;34m)\u001b[0m\u001b[0;34m\u001b[0m\u001b[0;34m\u001b[0m\u001b[0m\n\u001b[1;32m      3\u001b[0m \u001b[0mdf\u001b[0m\u001b[0;34m.\u001b[0m\u001b[0mvendor_id\u001b[0m \u001b[0;34m=\u001b[0m \u001b[0mdf\u001b[0m\u001b[0;34m.\u001b[0m\u001b[0mvendor_id\u001b[0m\u001b[0;34m.\u001b[0m\u001b[0mastype\u001b[0m\u001b[0;34m(\u001b[0m\u001b[0mnp\u001b[0m\u001b[0;34m.\u001b[0m\u001b[0muint8\u001b[0m\u001b[0;34m)\u001b[0m\u001b[0;34m\u001b[0m\u001b[0;34m\u001b[0m\u001b[0m\n\u001b[1;32m      4\u001b[0m \u001b[0mdf\u001b[0m\u001b[0;34m.\u001b[0m\u001b[0mtrip_duration\u001b[0m \u001b[0;34m=\u001b[0m \u001b[0mdf\u001b[0m\u001b[0;34m.\u001b[0m\u001b[0mtrip_duration\u001b[0m\u001b[0;34m.\u001b[0m\u001b[0mastype\u001b[0m\u001b[0;34m(\u001b[0m\u001b[0mnp\u001b[0m\u001b[0;34m.\u001b[0m\u001b[0muint32\u001b[0m\u001b[0;34m)\u001b[0m\u001b[0;34m\u001b[0m\u001b[0;34m\u001b[0m\u001b[0m\n\u001b[1;32m      5\u001b[0m \u001b[0;32mfor\u001b[0m \u001b[0mc\u001b[0m \u001b[0;32min\u001b[0m \u001b[0;34m[\u001b[0m\u001b[0mc\u001b[0m \u001b[0;32mfor\u001b[0m \u001b[0mc\u001b[0m \u001b[0;32min\u001b[0m \u001b[0mdf\u001b[0m\u001b[0;34m.\u001b[0m\u001b[0mcolumns\u001b[0m \u001b[0;32mif\u001b[0m \u001b[0mc\u001b[0m\u001b[0;34m.\u001b[0m\u001b[0mendswith\u001b[0m\u001b[0;34m(\u001b[0m\u001b[0;34m'tude'\u001b[0m\u001b[0;34m)\u001b[0m\u001b[0;34m]\u001b[0m\u001b[0;34m:\u001b[0m\u001b[0;34m\u001b[0m\u001b[0;34m\u001b[0m\u001b[0m\n",
            "\u001b[0;32m/usr/local/lib/python3.6/dist-packages/pandas/io/parsers.py\u001b[0m in \u001b[0;36mparser_f\u001b[0;34m(filepath_or_buffer, sep, delimiter, header, names, index_col, usecols, squeeze, prefix, mangle_dupe_cols, dtype, engine, converters, true_values, false_values, skipinitialspace, skiprows, skipfooter, nrows, na_values, keep_default_na, na_filter, verbose, skip_blank_lines, parse_dates, infer_datetime_format, keep_date_col, date_parser, dayfirst, iterator, chunksize, compression, thousands, decimal, lineterminator, quotechar, quoting, doublequote, escapechar, comment, encoding, dialect, tupleize_cols, error_bad_lines, warn_bad_lines, delim_whitespace, low_memory, memory_map, float_precision)\u001b[0m\n\u001b[1;32m    700\u001b[0m                     skip_blank_lines=skip_blank_lines)\n\u001b[1;32m    701\u001b[0m \u001b[0;34m\u001b[0m\u001b[0m\n\u001b[0;32m--> 702\u001b[0;31m         \u001b[0;32mreturn\u001b[0m \u001b[0m_read\u001b[0m\u001b[0;34m(\u001b[0m\u001b[0mfilepath_or_buffer\u001b[0m\u001b[0;34m,\u001b[0m \u001b[0mkwds\u001b[0m\u001b[0;34m)\u001b[0m\u001b[0;34m\u001b[0m\u001b[0;34m\u001b[0m\u001b[0m\n\u001b[0m\u001b[1;32m    703\u001b[0m \u001b[0;34m\u001b[0m\u001b[0m\n\u001b[1;32m    704\u001b[0m     \u001b[0mparser_f\u001b[0m\u001b[0;34m.\u001b[0m\u001b[0m__name__\u001b[0m \u001b[0;34m=\u001b[0m \u001b[0mname\u001b[0m\u001b[0;34m\u001b[0m\u001b[0;34m\u001b[0m\u001b[0m\n",
            "\u001b[0;32m/usr/local/lib/python3.6/dist-packages/pandas/io/parsers.py\u001b[0m in \u001b[0;36m_read\u001b[0;34m(filepath_or_buffer, kwds)\u001b[0m\n\u001b[1;32m    427\u001b[0m \u001b[0;34m\u001b[0m\u001b[0m\n\u001b[1;32m    428\u001b[0m     \u001b[0;31m# Create the parser.\u001b[0m\u001b[0;34m\u001b[0m\u001b[0;34m\u001b[0m\u001b[0;34m\u001b[0m\u001b[0m\n\u001b[0;32m--> 429\u001b[0;31m     \u001b[0mparser\u001b[0m \u001b[0;34m=\u001b[0m \u001b[0mTextFileReader\u001b[0m\u001b[0;34m(\u001b[0m\u001b[0mfilepath_or_buffer\u001b[0m\u001b[0;34m,\u001b[0m \u001b[0;34m**\u001b[0m\u001b[0mkwds\u001b[0m\u001b[0;34m)\u001b[0m\u001b[0;34m\u001b[0m\u001b[0;34m\u001b[0m\u001b[0m\n\u001b[0m\u001b[1;32m    430\u001b[0m \u001b[0;34m\u001b[0m\u001b[0m\n\u001b[1;32m    431\u001b[0m     \u001b[0;32mif\u001b[0m \u001b[0mchunksize\u001b[0m \u001b[0;32mor\u001b[0m \u001b[0miterator\u001b[0m\u001b[0;34m:\u001b[0m\u001b[0;34m\u001b[0m\u001b[0;34m\u001b[0m\u001b[0m\n",
            "\u001b[0;32m/usr/local/lib/python3.6/dist-packages/pandas/io/parsers.py\u001b[0m in \u001b[0;36m__init__\u001b[0;34m(self, f, engine, **kwds)\u001b[0m\n\u001b[1;32m    893\u001b[0m             \u001b[0mself\u001b[0m\u001b[0;34m.\u001b[0m\u001b[0moptions\u001b[0m\u001b[0;34m[\u001b[0m\u001b[0;34m'has_index_names'\u001b[0m\u001b[0;34m]\u001b[0m \u001b[0;34m=\u001b[0m \u001b[0mkwds\u001b[0m\u001b[0;34m[\u001b[0m\u001b[0;34m'has_index_names'\u001b[0m\u001b[0;34m]\u001b[0m\u001b[0;34m\u001b[0m\u001b[0;34m\u001b[0m\u001b[0m\n\u001b[1;32m    894\u001b[0m \u001b[0;34m\u001b[0m\u001b[0m\n\u001b[0;32m--> 895\u001b[0;31m         \u001b[0mself\u001b[0m\u001b[0;34m.\u001b[0m\u001b[0m_make_engine\u001b[0m\u001b[0;34m(\u001b[0m\u001b[0mself\u001b[0m\u001b[0;34m.\u001b[0m\u001b[0mengine\u001b[0m\u001b[0;34m)\u001b[0m\u001b[0;34m\u001b[0m\u001b[0;34m\u001b[0m\u001b[0m\n\u001b[0m\u001b[1;32m    896\u001b[0m \u001b[0;34m\u001b[0m\u001b[0m\n\u001b[1;32m    897\u001b[0m     \u001b[0;32mdef\u001b[0m \u001b[0mclose\u001b[0m\u001b[0;34m(\u001b[0m\u001b[0mself\u001b[0m\u001b[0;34m)\u001b[0m\u001b[0;34m:\u001b[0m\u001b[0;34m\u001b[0m\u001b[0;34m\u001b[0m\u001b[0m\n",
            "\u001b[0;32m/usr/local/lib/python3.6/dist-packages/pandas/io/parsers.py\u001b[0m in \u001b[0;36m_make_engine\u001b[0;34m(self, engine)\u001b[0m\n\u001b[1;32m   1120\u001b[0m     \u001b[0;32mdef\u001b[0m \u001b[0m_make_engine\u001b[0m\u001b[0;34m(\u001b[0m\u001b[0mself\u001b[0m\u001b[0;34m,\u001b[0m \u001b[0mengine\u001b[0m\u001b[0;34m=\u001b[0m\u001b[0;34m'c'\u001b[0m\u001b[0;34m)\u001b[0m\u001b[0;34m:\u001b[0m\u001b[0;34m\u001b[0m\u001b[0;34m\u001b[0m\u001b[0m\n\u001b[1;32m   1121\u001b[0m         \u001b[0;32mif\u001b[0m \u001b[0mengine\u001b[0m \u001b[0;34m==\u001b[0m \u001b[0;34m'c'\u001b[0m\u001b[0;34m:\u001b[0m\u001b[0;34m\u001b[0m\u001b[0;34m\u001b[0m\u001b[0m\n\u001b[0;32m-> 1122\u001b[0;31m             \u001b[0mself\u001b[0m\u001b[0;34m.\u001b[0m\u001b[0m_engine\u001b[0m \u001b[0;34m=\u001b[0m \u001b[0mCParserWrapper\u001b[0m\u001b[0;34m(\u001b[0m\u001b[0mself\u001b[0m\u001b[0;34m.\u001b[0m\u001b[0mf\u001b[0m\u001b[0;34m,\u001b[0m \u001b[0;34m**\u001b[0m\u001b[0mself\u001b[0m\u001b[0;34m.\u001b[0m\u001b[0moptions\u001b[0m\u001b[0;34m)\u001b[0m\u001b[0;34m\u001b[0m\u001b[0;34m\u001b[0m\u001b[0m\n\u001b[0m\u001b[1;32m   1123\u001b[0m         \u001b[0;32melse\u001b[0m\u001b[0;34m:\u001b[0m\u001b[0;34m\u001b[0m\u001b[0;34m\u001b[0m\u001b[0m\n\u001b[1;32m   1124\u001b[0m             \u001b[0;32mif\u001b[0m \u001b[0mengine\u001b[0m \u001b[0;34m==\u001b[0m \u001b[0;34m'python'\u001b[0m\u001b[0;34m:\u001b[0m\u001b[0;34m\u001b[0m\u001b[0;34m\u001b[0m\u001b[0m\n",
            "\u001b[0;32m/usr/local/lib/python3.6/dist-packages/pandas/io/parsers.py\u001b[0m in \u001b[0;36m__init__\u001b[0;34m(self, src, **kwds)\u001b[0m\n\u001b[1;32m   1851\u001b[0m         \u001b[0mkwds\u001b[0m\u001b[0;34m[\u001b[0m\u001b[0;34m'usecols'\u001b[0m\u001b[0;34m]\u001b[0m \u001b[0;34m=\u001b[0m \u001b[0mself\u001b[0m\u001b[0;34m.\u001b[0m\u001b[0musecols\u001b[0m\u001b[0;34m\u001b[0m\u001b[0;34m\u001b[0m\u001b[0m\n\u001b[1;32m   1852\u001b[0m \u001b[0;34m\u001b[0m\u001b[0m\n\u001b[0;32m-> 1853\u001b[0;31m         \u001b[0mself\u001b[0m\u001b[0;34m.\u001b[0m\u001b[0m_reader\u001b[0m \u001b[0;34m=\u001b[0m \u001b[0mparsers\u001b[0m\u001b[0;34m.\u001b[0m\u001b[0mTextReader\u001b[0m\u001b[0;34m(\u001b[0m\u001b[0msrc\u001b[0m\u001b[0;34m,\u001b[0m \u001b[0;34m**\u001b[0m\u001b[0mkwds\u001b[0m\u001b[0;34m)\u001b[0m\u001b[0;34m\u001b[0m\u001b[0;34m\u001b[0m\u001b[0m\n\u001b[0m\u001b[1;32m   1854\u001b[0m         \u001b[0mself\u001b[0m\u001b[0;34m.\u001b[0m\u001b[0munnamed_cols\u001b[0m \u001b[0;34m=\u001b[0m \u001b[0mself\u001b[0m\u001b[0;34m.\u001b[0m\u001b[0m_reader\u001b[0m\u001b[0;34m.\u001b[0m\u001b[0munnamed_cols\u001b[0m\u001b[0;34m\u001b[0m\u001b[0;34m\u001b[0m\u001b[0m\n\u001b[1;32m   1855\u001b[0m \u001b[0;34m\u001b[0m\u001b[0m\n",
            "\u001b[0;32mpandas/_libs/parsers.pyx\u001b[0m in \u001b[0;36mpandas._libs.parsers.TextReader.__cinit__\u001b[0;34m()\u001b[0m\n",
            "\u001b[0;32mpandas/_libs/parsers.pyx\u001b[0m in \u001b[0;36mpandas._libs.parsers.TextReader._setup_parser_source\u001b[0;34m()\u001b[0m\n",
            "\u001b[0;31mFileNotFoundError\u001b[0m: [Errno 2] File b'input/train.csv' does not exist: b'input/train.csv'"
          ]
        }
      ]
    },
    {
      "cell_type": "code",
      "metadata": {
        "id": "-lHB6KvhXNQ9",
        "colab_type": "code",
        "colab": {}
      },
      "source": [
        "\n",
        "sns.set_style('white')\n",
        "sns.set_context(\"paper\",font_scale=2)\n",
        "corr = df.corr()\n",
        "mask = np.zeros_like(corr, dtype=np.bool)\n",
        "mask[np.triu_indices_from(mask)] = True\n",
        "f, ax = plt.subplots(figsize=(11,9))\n",
        "cmap = sns.diverging_palette(220, 10, as_cmap=True)\n",
        "sns.heatmap(corr, mask=mask, cmap=cmap, vmax=0.3, center=0,\n",
        "           square=True, linewidths=0.5, cbar_kws={\"shrink\":0.5})"
      ],
      "execution_count": 0,
      "outputs": []
    },
    {
      "cell_type": "code",
      "metadata": {
        "id": "CqqP_I4VcWQw",
        "colab_type": "code",
        "colab": {}
      },
      "source": [
        "fig, ax = plt.subplots(ncols=1, nrows=1)\n",
        "sns.distplot(df['trip_duration']/3600,ax=ax,bins=100,kde=False,hist_kws={'log':True})"
      ],
      "execution_count": 0,
      "outputs": []
    },
    {
      "cell_type": "code",
      "metadata": {
        "id": "p4I6jogjcWVf",
        "colab_type": "code",
        "colab": {}
      },
      "source": [
        "fig, ax = plt.subplots(ncols=1, nrows=1)\n",
        "ax.set_xlim(0,30)\n",
        "sns.distplot(df['trip_duration']/3600,ax=ax,bins=1000,kde=False,hist_kws={'log':True})"
      ],
      "execution_count": 0,
      "outputs": []
    },
    {
      "cell_type": "code",
      "metadata": {
        "id": "IuGAJFFccWji",
        "colab_type": "code",
        "colab": {}
      },
      "source": [
        "\n",
        "def haversine(lon1, lat1, lon2, lat2):\n",
        "\n",
        "    lon1, lat1, lon2, lat2 = map(np.radians, [lon1, lat1, lon2, lat2])\n",
        "\n",
        "    dlon = lon2 - lon1\n",
        "    dlat = lat2 - lat1\n",
        "\n",
        "    a = np.sin(dlat/2.0)**2 + np.cos(lat1) * np.cos(lat2) * np.sin(dlon/2.0)**2\n",
        "\n",
        "    c = 2 * np.arcsin(np.sqrt(a))\n",
        "    km = 6367 * c\n",
        "    miles = km *  0.621371\n",
        "    return miles"
      ],
      "execution_count": 0,
      "outputs": []
    },
    {
      "cell_type": "code",
      "metadata": {
        "id": "9W8z6CSlcWh8",
        "colab_type": "code",
        "colab": {}
      },
      "source": [
        "\n",
        "df['distance'] = haversine(df.pickup_longitude, df.pickup_latitude,\n",
        "                                           df.dropoff_longitude, df.dropoff_latitude)"
      ],
      "execution_count": 0,
      "outputs": []
    },
    {
      "cell_type": "code",
      "metadata": {
        "id": "_AzBvDWPcWfy",
        "colab_type": "code",
        "colab": {}
      },
      "source": [
        "wdf = pd.read_csv('input/weather_data_nyc_centralpark_2016.csv')"
      ],
      "execution_count": 0,
      "outputs": []
    },
    {
      "cell_type": "code",
      "metadata": {
        "id": "X9rX6rXycWbz",
        "colab_type": "code",
        "colab": {}
      },
      "source": [
        "wdf['date']=pd.to_datetime(wdf.date,format='%d-%m-%Y')\n",
        "wdf['yday'] = wdf.date.dt.dayofyear"
      ],
      "execution_count": 0,
      "outputs": []
    },
    {
      "cell_type": "code",
      "metadata": {
        "id": "sQGv8GhmcWY_",
        "colab_type": "code",
        "colab": {}
      },
      "source": [
        "wdf['snowfall'] = wdf['snow fall'].replace(['T'],0.05).astype(np.float32)\n",
        "wdf['precipitation'] = wdf['precipitation'].replace(['T'],0.05).astype(np.float32)\n",
        "wdf['snowdepth'] = wdf['snow depth'].replace(['T'],0.05).astype(np.float32)"
      ],
      "execution_count": 0,
      "outputs": []
    },
    {
      "cell_type": "code",
      "metadata": {
        "id": "43bglKlwcWTn",
        "colab_type": "code",
        "colab": {}
      },
      "source": [
        "df = pd.merge(df,wdf,on='yday')\n",
        "df = df.drop(['date','maximum temerature','minimum temperature'],axis=1)\n",
        "#df.head()"
      ],
      "execution_count": 0,
      "outputs": []
    },
    {
      "cell_type": "code",
      "metadata": {
        "id": "NXR2bWeRcrMN",
        "colab_type": "code",
        "colab": {}
      },
      "source": [
        "sns.set_style('white')\n",
        "sns.set_context(\"paper\",font_scale=2)\n",
        "corr = df.corr()\n",
        "mask = np.zeros_like(corr, dtype=np.bool)\n",
        "mask[np.triu_indices_from(mask)] = True\n",
        "f, ax = plt.subplots(figsize=(11,9))\n",
        "cmap = sns.diverging_palette(220, 10, as_cmap=True)\n",
        "sns.heatmap(corr, mask=mask, cmap=cmap, vmax=0.3, center=0,\n",
        "           square=True, linewidths=0.5, cbar_kws={\"shrink\":0.5})"
      ],
      "execution_count": 0,
      "outputs": []
    },
    {
      "cell_type": "code",
      "metadata": {
        "id": "T__dF_nicx7B",
        "colab_type": "code",
        "colab": {}
      },
      "source": [
        "corr"
      ],
      "execution_count": 0,
      "outputs": []
    },
    {
      "cell_type": "code",
      "metadata": {
        "id": "0KA117EgcrTe",
        "colab_type": "code",
        "colab": {}
      },
      "source": [
        "\n",
        "fastest1 = pd.read_csv('input/fastest_routes_train_part_1.csv')\n",
        "fastest2 = pd.read_csv('input/fastest_routes_train_part_2.csv')\n",
        "fastest = pd.concat([fastest1,fastest2],ignore_index=True)\n",
        "fastest = fastest.drop(['step_location_list','step_direction','step_maneuvers','travel_time_per_step','distance_per_step','street_for_each_step','number_of_steps','starting_street','end_street'],axis=1)\n",
        "fastest.head() #"
      ],
      "execution_count": 0,
      "outputs": []
    },
    {
      "cell_type": "code",
      "metadata": {
        "id": "cmIvhFmWcrbc",
        "colab_type": "code",
        "colab": {}
      },
      "source": [
        "df = pd.merge(df,fastest,on='id',how='outer')\n",
        "df.head()"
      ],
      "execution_count": 0,
      "outputs": []
    },
    {
      "cell_type": "code",
      "metadata": {
        "id": "_GAlY8ahcriz",
        "colab_type": "code",
        "colab": {}
      },
      "source": [
        "mask = ((df.trip_duration > 60) & (df.distance < 0.05))\n",
        "df = df[~mask]\n",
        "mask = (df.trip_duration < 60) \n",
        "df = df[~mask]\n",
        "mask =  df.trip_duration > 79200\n",
        "df = df[~mask]\n",
        "mask = df.distance/(df.trip_duration/3600) > 60\n",
        "df = df[~mask]\n",
        "df.trip_duration = df.trip_duration.astype(np.uint16)\n",
        "df = df[df.passenger_count > 0]"
      ],
      "execution_count": 0,
      "outputs": []
    },
    {
      "cell_type": "code",
      "metadata": {
        "id": "qw6z9mjocsBb",
        "colab_type": "code",
        "colab": {}
      },
      "source": [
        "m = df.groupby(['wday','vendor_id'])[['trip_duration']].apply(np.median)\n",
        "m.name = 'trip_duration_median'\n",
        "df = df.join(m, on=['wday','vendor_id'])"
      ],
      "execution_count": 0,
      "outputs": []
    },
    {
      "cell_type": "code",
      "metadata": {
        "id": "ryBMu7bZcr_q",
        "colab_type": "code",
        "colab": {}
      },
      "source": [
        "sns.lmplot(y='trip_duration_median', x='wday',data=df, fit_reg=False, hue='vendor_id')"
      ],
      "execution_count": 0,
      "outputs": []
    },
    {
      "cell_type": "code",
      "metadata": {
        "id": "mq_NO9TEcr9f",
        "colab_type": "code",
        "colab": {}
      },
      "source": [
        "\n",
        "m = df.groupby(['pu_hour','vendor_id'])[['trip_duration']].apply(np.median)\n",
        "m.name ='trip_duration_median_hour'\n",
        "df = df.join(m, on=['pu_hour','vendor_id'])"
      ],
      "execution_count": 0,
      "outputs": []
    },
    {
      "cell_type": "code",
      "metadata": {
        "id": "vOnM7SqScr5o",
        "colab_type": "code",
        "colab": {}
      },
      "source": [
        "sns.lmplot(y='trip_duration_median_hour', x='pu_hour',data=df, fit_reg=False, hue='vendor_id')"
      ],
      "execution_count": 0,
      "outputs": []
    },
    {
      "cell_type": "code",
      "metadata": {
        "id": "iGi71Lfocrg_",
        "colab_type": "code",
        "colab": {}
      },
      "source": [
        "jfk_lon = -73.778889\n",
        "jfk_lat = 40.639722\n",
        "lga_lon = -73.872611\n",
        "lga_lat = 40.77725"
      ],
      "execution_count": 0,
      "outputs": []
    },
    {
      "cell_type": "code",
      "metadata": {
        "id": "0pXlLgKacreh",
        "colab_type": "code",
        "colab": {}
      },
      "source": [
        "df['jfk_pickup_dist'] = df.apply(lambda row: haversine(jfk_lon, jfk_lat, row['pickup_longitude'],row['pickup_latitude']), axis=1)\n",
        "df['lga_pickup_dist'] = df.apply(lambda row: haversine(lga_lon, lga_lat, row['pickup_longitude'],row['pickup_latitude']), axis=1)\n",
        "df['jfk_dropoff_dist'] = df.apply(lambda row: haversine(jfk_lon, jfk_lat, row['dropoff_longitude'],row['dropoff_latitude']), axis=1)\n",
        "df['lga_dropoff_dist'] = df.apply(lambda row: haversine(lga_lon, lga_lat, row['dropoff_longitude'],row['dropoff_latitude']), axis=1)"
      ],
      "execution_count": 0,
      "outputs": []
    },
    {
      "cell_type": "code",
      "metadata": {
        "id": "iD3h1q4AcrZT",
        "colab_type": "code",
        "colab": {}
      },
      "source": [
        "fig, ax = plt.subplots(ncols=2, nrows=2, sharex=True)\n",
        "ax[0,0].set_xlim(0,50)\n",
        "\n",
        "sns.distplot(df['jfk_pickup_dist'],ax=ax[0,0],bins=100,kde=False,hist_kws={'log':True})\n",
        "sns.distplot(df['jfk_dropoff_dist'],ax=ax[0,1],bins=100,kde=False,hist_kws={'log':True})\n",
        "sns.distplot(df['lga_pickup_dist'],ax=ax[1,0],bins=100,kde=False,hist_kws={'log':True})\n",
        "sns.distplot(df['lga_dropoff_dist'],ax=ax[1,1],bins=100,kde=False,hist_kws={'log':True})"
      ],
      "execution_count": 0,
      "outputs": []
    },
    {
      "cell_type": "code",
      "metadata": {
        "id": "ZSjKP-9BcrX1",
        "colab_type": "code",
        "colab": {}
      },
      "source": [
        "df['jfk'] = ((df['jfk_pickup_dist'] < 2) | (df['jfk_dropoff_dist'] < 2))\n",
        "df['lga'] = ((df['lga_pickup_dist'] < 2) | (df['lga_dropoff_dist'] < 2))\n",
        "df = df.drop(['jfk_pickup_dist','lga_pickup_dist','jfk_dropoff_dist','lga_dropoff_dist'],axis=1)\n",
        "df.head()"
      ],
      "execution_count": 0,
      "outputs": []
    },
    {
      "cell_type": "code",
      "metadata": {
        "id": "Z-KSKomEcrRw",
        "colab_type": "code",
        "colab": {}
      },
      "source": [
        "df['workday'] = ((df['pu_hour'] > 8) & (df['pu_hour'] < 18))\n",
        "df.head()"
      ],
      "execution_count": 0,
      "outputs": []
    },
    {
      "cell_type": "code",
      "metadata": {
        "id": "wKEgObHUcrPV",
        "colab_type": "code",
        "colab": {}
      },
      "source": [
        "fig, ax = plt.subplots(ncols=1, nrows=1,figsize=(12,10))\n",
        "plt.ylim(40.6, 40.9)\n",
        "plt.xlim(-74.1,-73.7)\n",
        "ax.scatter(df['pickup_longitude'],df['pickup_latitude'], s=0.01, alpha=1)"
      ],
      "execution_count": 0,
      "outputs": []
    },
    {
      "cell_type": "code",
      "metadata": {
        "id": "weGlNepudPF0",
        "colab_type": "code",
        "colab": {}
      },
      "source": [
        "#RMSLE: Evaluation Metric¶\n",
        "\n",
        "def rmsle(evaluator,X,real):\n",
        "    sum = 0.0\n",
        "    predicted = evaluator.predict(X)\n",
        "    print(\"Number predicted less than 0: {}\".format(np.where(predicted < 0)[0].shape))\n",
        "\n",
        "    predicted[predicted < 0] = 0\n",
        "    for x in range(len(predicted)):\n",
        "        p = np.log(predicted[x]+1)\n",
        "        r = np.log(real[x]+1)\n",
        "        sum = sum + (p-r)**2\n",
        "    return (sum/len(predicted))**0.5"
      ],
      "execution_count": 0,
      "outputs": []
    },
    {
      "cell_type": "code",
      "metadata": {
        "id": "C7CBssvldPDW",
        "colab_type": "code",
        "colab": {}
      },
      "source": [
        "#Load Test Data\n",
        "tdf = pd.read_csv('input/test.csv')\n",
        "tdf.pickup_datetime=pd.to_datetime(tdf.pickup_datetime)\n",
        "#tdf.dropoff_datetime=pd.to_datetime(tdf.dropoff_datetime)\n",
        "tdf['pu_hour'] = tdf.pickup_datetime.dt.hour\n",
        "tdf['yday'] = tdf.pickup_datetime.dt.dayofyear\n",
        "tdf['wday'] = tdf.pickup_datetime.dt.dayofweek\n",
        "tdf['month'] = tdf.pickup_datetime.dt.month\n",
        "tdf['distance'] = haversine(tdf.pickup_longitude, tdf.pickup_latitude,\n",
        "                                           tdf.dropoff_longitude, tdf.dropoff_latitude)\n",
        "fastest_test = pd.read_csv('input/fastest_routes_test.csv')\n",
        "tdf = pd.merge(tdf,fastest_test,on='id',how='outer')\n",
        "tdf = tdf.drop(['step_location_list','step_direction','step_maneuvers','travel_time_per_step','distance_per_step','street_for_each_step','number_of_steps','starting_street','end_street'],axis=1)\n",
        "tdf = pd.merge(tdf,wdf,on='yday')\n",
        "tdf = tdf.drop(['date','maximum temerature','minimum temperature'],axis=1)\n",
        "tdf['jfk_pickup_dist'] = tdf.apply(lambda row: haversine(jfk_lon, jfk_lat, row['pickup_longitude'],row['pickup_latitude']), axis=1)\n",
        "tdf['lga_pickup_dist'] = tdf.apply(lambda row: haversine(lga_lon, lga_lat, row['pickup_longitude'],row['pickup_latitude']), axis=1)\n",
        "tdf['jfk_dropoff_dist'] = tdf.apply(lambda row: haversine(jfk_lon, jfk_lat, row['dropoff_longitude'],row['dropoff_latitude']), axis=1)\n",
        "tdf['lga_dropoff_dist'] = tdf.apply(lambda row: haversine(lga_lon, lga_lat, row['dropoff_longitude'],row['dropoff_latitude']), axis=1)\n",
        "tdf['jfk'] = ((tdf['jfk_pickup_dist'] < 2) | (tdf['jfk_dropoff_dist'] < 2))\n",
        "tdf['lga'] = ((tdf['lga_pickup_dist'] < 2) | (tdf['lga_dropoff_dist'] < 2))\n",
        "tdf = tdf.drop(['jfk_pickup_dist','lga_pickup_dist','jfk_dropoff_dist','lga_dropoff_dist'],axis=1)\n",
        "tdf['workday'] = ((tdf['pu_hour'] > 8) & (tdf['pu_hour'] < 18))"
      ],
      "execution_count": 0,
      "outputs": []
    },
    {
      "cell_type": "code",
      "metadata": {
        "id": "O6c9cqBydPAq",
        "colab_type": "code",
        "colab": {}
      },
      "source": [
        "tdf['snowfall'] = tdf['snow fall'].replace(['T'],0.05)\n",
        "tdf['precipitation'] = tdf['precipitation'].replace(['T'],0.05)\n",
        "tdf['snowdepth'] = tdf['snow depth'].replace(['T'],0.05)"
      ],
      "execution_count": 0,
      "outputs": []
    },
    {
      "cell_type": "code",
      "metadata": {
        "id": "2ssQx4q-dO-C",
        "colab_type": "code",
        "colab": {}
      },
      "source": [
        "df.to_csv('train_data.csv',index=False)\n",
        "tdf.to_csv('test_data.csv',index=False)"
      ],
      "execution_count": 0,
      "outputs": []
    },
    {
      "cell_type": "code",
      "metadata": {
        "id": "8qDPCEnMdO7p",
        "colab_type": "code",
        "colab": {}
      },
      "source": [
        "df = pd.read_csv('train_data.csv')\n",
        "tdf = pd.read_csv('test_data.csv')"
      ],
      "execution_count": 0,
      "outputs": []
    },
    {
      "cell_type": "code",
      "metadata": {
        "id": "T1dz_zc5dO5E",
        "colab_type": "code",
        "colab": {}
      },
      "source": [
        "#Benchmark Model\n",
        "benchmark = fastest_test[['id','total_travel_time']]\n",
        "benchmark = benchmark.rename(index=str, columns={\"total_travel_time\": \"trip_duration\"})\n",
        "benchmark.head()"
      ],
      "execution_count": 0,
      "outputs": []
    },
    {
      "cell_type": "code",
      "metadata": {
        "id": "_916PIUAdO17",
        "colab_type": "code",
        "colab": {}
      },
      "source": [
        "benchmark['trip_duration'].isnull().values.any()\n",
        "benchmark.to_csv('benchmark.csv',index=False)\n",
        "#RMSLE=0.990\n",
        "\n",
        "features = df[['vendor_id','passenger_count','pickup_latitude','pickup_longitude','dropoff_latitude','dropoff_longitude','pu_hour','wday','month','workday','precipitation','snowfall','snowdepth','total_distance','total_travel_time','jfk','lga']]\n",
        "target = df['trip_duration']\n",
        "\n",
        "tfeatures = tdf[['vendor_id','passenger_count','pickup_latitude','pickup_longitude','dropoff_latitude','dropoff_longitude','pu_hour','wday','month','workday','precipitation','snowfall','snowdepth','total_distance','total_travel_time','jfk','lga']]"
      ],
      "execution_count": 0,
      "outputs": []
    },
    {
      "cell_type": "code",
      "metadata": {
        "id": "LVI1DprFdOzX",
        "colab_type": "code",
        "colab": {}
      },
      "source": [
        "#Linear Regression\n",
        "\n",
        "from sklearn import linear_model\n",
        "\n",
        "reg = linear_model.LinearRegression()\n",
        "cv = ShuffleSplit(n_splits=4, test_size=0.1, random_state=0)\n",
        "print(cross_val_score(reg, features, np.ravel(target), cv=cv, scoring=rmsle))\n",
        "reg.fit(features, target)\n",
        "Number predicted less than 0: (14,)\n",
        "Number predicted less than 0: (9,)\n",
        "Number predicted less than 0: (17,)\n",
        "Number predicted less than 0: (12,)\n",
        "#[ 0.43999617  0.44022755  0.43897449  0.44073678]\n",
        "\n",
        "LinearRegression(copy_X=True, fit_intercept=True, n_jobs=1, normalize=False)\n",
        "\n",
        "np.mean([0.43999617,  0.44022755 , 0.43897449,0.44073678])\n",
        "\n",
        "tfeatures.shape\n",
        "\n",
        "\n",
        "pred = reg.predict(tfeatures)\n",
        "print(np.where(pred < 0)[0].shape)\n",
        "pred[pred < 0]=0\n",
        "\n",
        "tdf['trip_duration']=pred.astype(int)\n",
        "out = tdf[['id','trip_duration']]\n",
        "\n",
        "out['trip_duration'].isnull().values.any()\n",
        "\n",
        "out.to_csv('pred_linear.csv',index=False)\n",
        "#RMSLE=0.535"
      ],
      "execution_count": 0,
      "outputs": []
    },
    {
      "cell_type": "code",
      "metadata": {
        "id": "sN1bd8x0dOwl",
        "colab_type": "code",
        "colab": {}
      },
      "source": [
        "K-nearest Neighbors Regression\n",
        "In [8]:\n",
        "from sklearn.neighbors import KNeighborsRegressor\n",
        "neigh = KNeighborsRegressor(n_neighbors=10)\n",
        "cv = ShuffleSplit(n_splits=4, test_size=0.1, random_state=0)\n",
        "print(cross_val_score(neigh, features, np.ravel(target), cv=cv,scoring=rmsle))\n",
        "neigh.fit(features,target)\n",
        "Number predicted less than 0: (0,)\n",
        "Number predicted less than 0: (0,)\n",
        "Number predicted less than 0: (0,)\n",
        "Number predicted less than 0: (0,)\n",
        "[ 0.42010954  0.41940803  0.41947931  0.41968818]\n",
        "Out[8]:\n",
        "KNeighborsRegressor(algorithm='auto', leaf_size=30, metric='minkowski',\n",
        "          metric_params=None, n_jobs=1, n_neighbors=10, p=2,\n",
        "          weights='uniform')\n",
        "In [16]:\n",
        "np.mean([0.42010954, 0.41940803, 0.41947931, 0.41968818])\n",
        "Out[16]:\n",
        "0.41967126500000002\n",
        "In [11]:\n",
        "pred = neigh.predict(tfeatures)\n",
        "print(np.where(pred < 0)[0].shape)\n",
        "(0,)\n",
        "In [35]:\n",
        "tdf['trip_duration']=pred.astype(int)\n",
        "out = tdf[['id','trip_duration']]\n",
        "out.to_csv('pred_knn.csv',index=False)\n",
        "#RMSLE=0.505"
      ],
      "execution_count": 0,
      "outputs": []
    },
    {
      "cell_type": "code",
      "metadata": {
        "id": "nbhuHkYjdOuK",
        "colab_type": "code",
        "colab": {}
      },
      "source": [
        "Random Forest\n",
        "In [12]:\n",
        "from sklearn.ensemble import RandomForestRegressor\n",
        "rf = RandomForestRegressor()\n",
        "cv = ShuffleSplit(n_splits=4, test_size=0.1, random_state=0)\n",
        "print(cross_val_score(rf, features, np.ravel(target), cv=cv,scoring=rmsle))\n",
        "rf = rf.fit(features,np.ravel(target))\n",
        "Number predicted less than 0: (0,)\n",
        "Number predicted less than 0: (0,)\n",
        "Number predicted less than 0: (0,)\n",
        "Number predicted less than 0: (0,)\n",
        "[ 0.35085909  0.35181223  0.34976928  0.35057147]\n",
        "In [15]:\n",
        "np.mean([0.35085909, 0.35181223, 0.34976928, 0.35057147])\n",
        "Out[15]:\n",
        "0.35075301749999999\n",
        "In [13]:\n",
        "pred = rf.predict(tfeatures)\n",
        "print(np.where(pred < 0)[0].shape)\n",
        "(0,)\n",
        "In [44]:\n",
        "tdf['trip_duration']=pred.astype(int)\n",
        "out = tdf[['id','trip_duration']]\n",
        "out.to_csv('pred_rf.csv',index=False)\n",
        "#RMSLE=0.473"
      ],
      "execution_count": 0,
      "outputs": []
    },
    {
      "cell_type": "code",
      "metadata": {
        "id": "ohE1d4o2d91j",
        "colab_type": "code",
        "colab": {}
      },
      "source": [
        "XGBoost\n",
        "In [6]:\n",
        "reg = xgboost.XGBRegressor(n_estimators=100, learning_rate=0.08, gamma=0, subsample=0.75,\n",
        "                           colsample_bytree=1, max_depth=7)\n",
        "\n",
        "cv = ShuffleSplit(n_splits=4, test_size=0.1, random_state=0)\n",
        "print(cross_val_score(reg, features, np.ravel(target), cv=cv,scoring=rmsle))\n",
        "\n",
        "XGBRegressor(base_score=0.5, colsample_bylevel=1, colsample_bytree=1, gamma=0,\n",
        "       learning_rate=0.08, max_delta_step=0, max_depth=7,\n",
        "       min_child_weight=1, missing=None, n_estimators=100, nthread=-1,\n",
        "       objective='reg:linear', reg_alpha=0, reg_lambda=1,\n",
        "       scale_pos_weight=1, seed=0, silent=True, subsample=0.75)\n",
        "\n",
        "pred = reg.predict(tfeatures)\n",
        "print(np.where(pred < 0)[0].shape)\n",
        "\n",
        "pred[pred < 0] = 0\n",
        "tdf['trip_duration']=pred.astype(int)\n",
        "out = tdf[['id','trip_duration']]\n",
        "out['trip_duration'].isnull().values.any()\n",
        "out.to_csv('pred_xgboost.csv',index=False)\n",
        "#RMSLE=0.463\n",
        "\n",
        "from xgboost import plot_tree\n",
        "plot_tree(reg)\n",
        "\n",
        "import pickle\n",
        "pickle.dump(reg, open('xgb_model.sav','wb'),protocol=2)"
      ],
      "execution_count": 0,
      "outputs": []
    },
    {
      "cell_type": "code",
      "metadata": {
        "id": "y117rek8d9zV",
        "colab_type": "code",
        "colab": {}
      },
      "source": [
        ""
      ],
      "execution_count": 0,
      "outputs": []
    },
    {
      "cell_type": "code",
      "metadata": {
        "id": "YLivGAV-d9wh",
        "colab_type": "code",
        "colab": {}
      },
      "source": [
        ""
      ],
      "execution_count": 0,
      "outputs": []
    },
    {
      "cell_type": "code",
      "metadata": {
        "id": "1jAguPqNd9uI",
        "colab_type": "code",
        "colab": {}
      },
      "source": [
        ""
      ],
      "execution_count": 0,
      "outputs": []
    },
    {
      "cell_type": "code",
      "metadata": {
        "id": "iFUlA5UUd9qP",
        "colab_type": "code",
        "colab": {}
      },
      "source": [
        ""
      ],
      "execution_count": 0,
      "outputs": []
    },
    {
      "cell_type": "code",
      "metadata": {
        "id": "DbLzF-yvdOsB",
        "colab_type": "code",
        "colab": {}
      },
      "source": [
        ""
      ],
      "execution_count": 0,
      "outputs": []
    },
    {
      "cell_type": "code",
      "metadata": {
        "id": "ZgKhM0MCdOqB",
        "colab_type": "code",
        "colab": {}
      },
      "source": [
        ""
      ],
      "execution_count": 0,
      "outputs": []
    },
    {
      "cell_type": "code",
      "metadata": {
        "id": "D9sPXkAtdOnP",
        "colab_type": "code",
        "colab": {}
      },
      "source": [
        ""
      ],
      "execution_count": 0,
      "outputs": []
    },
    {
      "cell_type": "code",
      "metadata": {
        "id": "c694I6jRdOkK",
        "colab_type": "code",
        "colab": {}
      },
      "source": [
        ""
      ],
      "execution_count": 0,
      "outputs": []
    },
    {
      "cell_type": "code",
      "metadata": {
        "id": "Erz876SIdOg6",
        "colab_type": "code",
        "colab": {}
      },
      "source": [
        ""
      ],
      "execution_count": 0,
      "outputs": []
    },
    {
      "cell_type": "code",
      "metadata": {
        "id": "0ZKc3wXKdOeY",
        "colab_type": "code",
        "colab": {}
      },
      "source": [
        ""
      ],
      "execution_count": 0,
      "outputs": []
    },
    {
      "cell_type": "code",
      "metadata": {
        "id": "DM6kXpiEcWOX",
        "colab_type": "code",
        "colab": {}
      },
      "source": [
        ""
      ],
      "execution_count": 0,
      "outputs": []
    },
    {
      "cell_type": "code",
      "metadata": {
        "id": "7dkRq9zTXNTb",
        "colab_type": "code",
        "colab": {}
      },
      "source": [
        "#Starting the Algorithm XGboost\n",
        "\n",
        "import numpy as np \n",
        "import pandas as pd\n",
        "import seaborn as sns\n",
        "import matplotlib.pyplot as plt\n",
        "from sklearn.model_selection import ShuffleSplit\n",
        "from sklearn.model_selection import cross_val_score\n",
        "from sklearn.grid_search import GridSearchCV\n",
        "import xgboost\n",
        "%matplotlib inline\n",
        "\n",
        "from subprocess import check_output\n",
        "print(check_output([\"ls\", \"input/\"]).decode(\"utf8\"))"
      ],
      "execution_count": 0,
      "outputs": []
    },
    {
      "cell_type": "code",
      "metadata": {
        "id": "CHlCKb8TXNYQ",
        "colab_type": "code",
        "colab": {}
      },
      "source": [
        "df = pd.read_csv('train_data.csv')\n",
        "tdf = pd.read_csv('test_data.csv')"
      ],
      "execution_count": 0,
      "outputs": []
    },
    {
      "cell_type": "code",
      "metadata": {
        "id": "mYrdrFepXNbZ",
        "colab_type": "code",
        "colab": {}
      },
      "source": [
        "\n",
        "features = df[['vendor_id','passenger_count','pickup_latitude','pickup_longitude','dropoff_latitude','dropoff_longitude','pu_hour','wday','month','workday','precipitation','snowfall','snowdepth','total_distance','total_travel_time','jfk','lga']]\n",
        "target = df['trip_duration']"
      ],
      "execution_count": 0,
      "outputs": []
    },
    {
      "cell_type": "code",
      "metadata": {
        "id": "-xOt8xCTXN_i",
        "colab_type": "code",
        "colab": {}
      },
      "source": [
        "tfeatures = tdf[['vendor_id','passenger_count','pickup_latitude','pickup_longitude','dropoff_latitude','dropoff_longitude','pu_hour','wday','month','workday','precipitation','snowfall','snowdepth','total_distance','total_travel_time','jfk','lga']]"
      ],
      "execution_count": 0,
      "outputs": []
    },
    {
      "cell_type": "code",
      "metadata": {
        "id": "cQQMfADxXOCm",
        "colab_type": "code",
        "colab": {}
      },
      "source": [
        "\n",
        "def rmsle(evaluator,X,real):\n",
        "    sum = 0.0\n",
        "    predicted = evaluator.predict(X)\n",
        "    print(\"Number predicted less than 0: {}\".format(np.where(predicted < 0)[0].shape))\n",
        "\n",
        "    predicted[predicted < 0] = 0\n",
        "    for x in range(len(predicted)):\n",
        "        p = np.log(predicted[x]+1)\n",
        "        r = np.log(real[x]+1)\n",
        "        sum = sum + (p-r)**2\n",
        "    return (sum/len(predicted))**0.5"
      ],
      "execution_count": 0,
      "outputs": []
    },
    {
      "cell_type": "code",
      "metadata": {
        "id": "1HnzGrm6XNXC",
        "colab_type": "code",
        "colab": {}
      },
      "source": [
        "# cv_params = {'max_depth': [3,5,7], 'min_child_weight': [1,3,5]}\n",
        "# ind_params = {'learning_rate': 0.08, 'n_estimators': 100, 'seed':0, 'subsample': 0.75, 'colsample_bytree': 1}\n",
        "# optimized_GBM = GridSearchCV(xgboost.XGBRegressor(**ind_params), \n",
        "#                             cv_params,scoring = rmsle, cv =4) \n",
        "# optimized_GBM.fit(features, np.ravel(target))"
      ],
      "execution_count": 0,
      "outputs": []
    },
    {
      "cell_type": "code",
      "metadata": {
        "id": "nvnv2O74W_a9",
        "colab_type": "code",
        "colab": {}
      },
      "source": [
        "# print(optimized_GBM.grid_scores_)"
      ],
      "execution_count": 0,
      "outputs": []
    },
    {
      "cell_type": "code",
      "metadata": {
        "id": "2wh1uZKWW_kB",
        "colab_type": "code",
        "colab": {}
      },
      "source": [
        "# cv_params = {'learning_rate': [0.1, 0.01], 'subsample': [0.7,0.8,0.9]}\n",
        "# ind_params = {'n_estimators': 100, 'seed':0, 'colsample_bytree': 0.8, \n",
        "#              'max_depth': 7, 'min_child_weight': 1}\n",
        "\n",
        "\n",
        "# optimized_GBM = GridSearchCV(xgboost.XGBRegressor(**ind_params), \n",
        "#                              cv_params,scoring = rmsle, cv =4) \n",
        "# optimized_GBM.fit(features, np.ravel(target))"
      ],
      "execution_count": 0,
      "outputs": []
    },
    {
      "cell_type": "code",
      "metadata": {
        "id": "90mWSmxqW_or",
        "colab_type": "code",
        "colab": {}
      },
      "source": [
        "# print(optimized_GBM.grid_scores_)"
      ],
      "execution_count": 0,
      "outputs": []
    },
    {
      "cell_type": "code",
      "metadata": {
        "id": "AXbD_zvzW_wu",
        "colab_type": "code",
        "colab": {}
      },
      "source": [
        "params = {'n_estimators': 100, 'seed':0, 'colsample_bytree': 1, \n",
        "             'max_depth': 7, 'min_child_weight': 1,'learning_rate': 0.1, 'subsample': 0.8}"
      ],
      "execution_count": 0,
      "outputs": []
    },
    {
      "cell_type": "code",
      "metadata": {
        "id": "qDB6GfWCW_zr",
        "colab_type": "code",
        "colab": {}
      },
      "source": [
        "reg = xgboost.XGBRegressor(n_estimators=100, seed=0,learning_rate=0.1, subsample=0.8,\n",
        "                           colsample_bytree=1, max_depth=7,min_child_weight= 1)\n",
        "\n",
        "cv = ShuffleSplit(n_splits=4, test_size=0.1, random_state=0)\n",
        "print(cross_val_score(reg, features, np.ravel(target), cv=cv,scoring=rmsle))\n",
        "reg.fit(features,target)"
      ],
      "execution_count": 0,
      "outputs": []
    },
    {
      "cell_type": "code",
      "metadata": {
        "id": "fMKehHNlW_5C",
        "colab_type": "code",
        "colab": {}
      },
      "source": [
        "pred = reg.predict(tfeatures)\n",
        "print(np.where(pred < 0)[0].shape)\n",
        "pred[pred < 0] = 0\n",
        "tdf['trip_duration']=pred.astype(int)\n",
        "out = tdf[['id','trip_duration']]\n",
        "out['trip_duration'].isnull().values.any()\n",
        "out.to_csv('pred_xgboost2.csv',index=False)\n",
        "#0.45743"
      ],
      "execution_count": 0,
      "outputs": []
    },
    {
      "cell_type": "code",
      "metadata": {
        "id": "Ukn4QLI4W_2r",
        "colab_type": "code",
        "colab": {}
      },
      "source": [
        ""
      ],
      "execution_count": 0,
      "outputs": []
    },
    {
      "cell_type": "code",
      "metadata": {
        "id": "TaMiLnxOW_uw",
        "colab_type": "code",
        "colab": {}
      },
      "source": [
        ""
      ],
      "execution_count": 0,
      "outputs": []
    },
    {
      "cell_type": "code",
      "metadata": {
        "id": "hj2R4hNcW_r9",
        "colab_type": "code",
        "colab": {}
      },
      "source": [
        ""
      ],
      "execution_count": 0,
      "outputs": []
    }
  ]
}